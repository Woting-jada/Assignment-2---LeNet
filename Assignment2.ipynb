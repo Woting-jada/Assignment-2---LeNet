{
 "cells": [
  {
   "cell_type": "markdown",
   "id": "a72fb578",
   "metadata": {},
   "source": [
    "# Loading dataset"
   ]
  },
  {
   "cell_type": "code",
   "execution_count": 33,
   "id": "e3a285c9",
   "metadata": {},
   "outputs": [],
   "source": [
    "import warnings\n",
    "warnings.filterwarnings(\"ignore\")\n",
    "\n",
    "from sklearn import preprocessing, metrics\n",
    "from sklearn.utils import shuffle\n",
    "from copy import deepcopy\n",
    "import numpy as np\n",
    "from numpy import newaxis\n",
    "import struct\n",
    "import matplotlib.pyplot as plt\n",
    "import pickle\n",
    "import time\n",
    "import json\n",
    "import codecs\n",
    "from tqdm import tqdm\n",
    "import pandas as pd\n",
    "import cv2\n",
    "#os.cpu_count() 來獲取當前機器的 CPU 核心數量\n",
    "from multiprocessing import Pool, cpu_count\n",
    "from skimage.feature import hog\n",
    "from skimage import data\n",
    "\n",
    "np.random.seed(0)\n",
    "\n",
    "class NumpyJSONEncoder(json.JSONEncoder):\n",
    "\n",
    "    def default(self, obj):\n",
    "        if isinstance(obj, np.ndarray):\n",
    "            return obj.tolist()\n",
    "        return json.JSONEncoder.default(self, obj)\n",
    "\n",
    "\n",
    "def save_numpy(file, x):\n",
    "    with open(file, 'w') as f:\n",
    "        json.dump(x, f, cls=NumpyJSONEncoder)\n",
    "\n",
    "\n",
    "def print_numpy_unscientific(x):\n",
    "    with np.printoptions(suppress=True):\n",
    "        print(x)\n",
    "\n",
    "\n",
    "def show_image(X, y):\n",
    "    print(\"真實類別\",y)\n",
    "    plt.imshow(X, cmap='gray' if X.shape[2] == 1 else None)\n",
    "\n",
    "\n",
    "def one_hot(y, n_values):\n",
    "    return np.eye(n_values)[y.flatten()]\n",
    "\n",
    "\n",
    "def reverse_one_hot(y):\n",
    "    return np.argmax(y, axis=-1)\n",
    "\n",
    "def load_image2np(img_path:str):\n",
    "    global IMG_WIDTH, IMG_HEIGHT, IMG_CHA\n",
    "    img_path = f\"../Assignment 1-Image Classification/{img_path}\"\n",
    "    img = cv2.imread(img_path)\n",
    "    img = cv2.resize(img, (IMG_HEIGHT, IMG_WIDTH))\n",
    "    img = np.expand_dims(img, axis=0)\n",
    "    return img\n",
    "\n",
    "def load_data(meta_path:str):\n",
    "    # with multiprocessing to speed up loading img\n",
    "    global CPU_USED\n",
    "    with open(meta_path, 'r') as f:\n",
    "        data_path = [line.strip().split(' ') for line in f.readlines()]\n",
    "        X, y = zip(*data_path)\n",
    "        \n",
    "        pool = Pool(CPU_USED)\n",
    "        pool_outputs = list(tqdm(pool.imap(load_image2np, X), total=len(X)))\n",
    "        X = np.concatenate(pool_outputs, axis=0)\n",
    "        y = [int(i) for i in y]\n",
    "        y = np.array(y)\n",
    "        return X, y\n",
    "        # 50s\n",
    "\n",
    "def union_shuffle(X, y):\n",
    "    global RS\n",
    "    index = np.arange(X.shape[0])\n",
    "    # np shuffle is inplace edit\n",
    "    RS.shuffle(index)\n",
    "    return X[index], y[index]\n"
   ]
  },
  {
   "cell_type": "code",
   "execution_count": 34,
   "id": "c9da99f3",
   "metadata": {},
   "outputs": [],
   "source": [
    "IMG_WIDTH = 32\n",
    "IMG_HEIGHT = 32\n",
    "IMG_CHA = 3\n",
    "CPU_USED = 4\n",
    "RANDOM_STATE = 11\n",
    "RS = np.random.RandomState(RANDOM_STATE)"
   ]
  },
  {
   "cell_type": "code",
   "execution_count": 35,
   "id": "43e6d79b",
   "metadata": {},
   "outputs": [
    {
     "data": {
      "text/plain": [
       "16"
      ]
     },
     "execution_count": 35,
     "metadata": {},
     "output_type": "execute_result"
    }
   ],
   "source": [
    "cpu_count()"
   ]
  },
  {
   "cell_type": "code",
   "execution_count": 36,
   "id": "0655761c",
   "metadata": {},
   "outputs": [
    {
     "name": "stderr",
     "output_type": "stream",
     "text": [
      "100%|██████████| 63325/63325 [00:14<00:00, 4344.04it/s]\n",
      "100%|██████████| 450/450 [00:00<00:00, 5102.08it/s]\n",
      "100%|██████████| 450/450 [00:00<00:00, 3691.93it/s]\n"
     ]
    }
   ],
   "source": [
    "train_X, train_y = load_data('../Assignment 1-Image Classification/train.txt')\n",
    "val_X, val_y = load_data('../Assignment 1-Image Classification/val.txt')\n",
    "test_X, test_y = load_data('../Assignment 1-Image Classification/test.txt')"
   ]
  },
  {
   "cell_type": "code",
   "execution_count": 18,
   "id": "502f18c5",
   "metadata": {},
   "outputs": [],
   "source": [
    "# 將像素值標準化為0到1之間\n",
    "train_X = train_X/255\n",
    "val_X = val_X/255\n",
    "test_X = test_X/255"
   ]
  },
  {
   "cell_type": "code",
   "execution_count": 19,
   "id": "6212d9ac",
   "metadata": {},
   "outputs": [
    {
     "data": {
      "text/plain": [
       "(63325, 50)"
      ]
     },
     "execution_count": 19,
     "metadata": {},
     "output_type": "execute_result"
    }
   ],
   "source": [
    "train_y = one_hot(train_y, 50)\n",
    "val_y = one_hot(val_y, 50)\n",
    "test_y = one_hot(test_y, 50)\n",
    "\n",
    "train_y.shape"
   ]
  },
  {
   "cell_type": "markdown",
   "id": "29cf6d60",
   "metadata": {},
   "source": [
    "# Implementation"
   ]
  },
  {
   "cell_type": "code",
   "execution_count": 20,
   "id": "35992ec6",
   "metadata": {
    "code_folding": []
   },
   "outputs": [],
   "source": [
    "class Layer:\n",
    "    cache_X = None\n",
    "    learn_rate = 0.001\n",
    "\n",
    "    def forward(self, X):\n",
    "        self.cache_X = X.copy()\n",
    "\n",
    "    def backward(self, grad_in):\n",
    "        raise NotImplementedError\n",
    "\n",
    "\n",
    "def generate_regions(X, dim, stride):\n",
    "    assert X.shape[1] >= dim\n",
    "    assert X.shape[2] >= dim\n",
    "    # X is of shape (batch_size, height, width, in_nchannel)\n",
    "    for fh, h in enumerate(range(0, X.shape[1] - dim + 1, stride)):\n",
    "        for fw, w in enumerate(range(0, X.shape[2] - dim + 1, stride)):\n",
    "            yield fh, fw, np.s_[:, h:h + dim, w:w + dim, :]\n",
    "\n",
    "\n",
    "class Conv2D(Layer):\n",
    "    W = None\n",
    "    b = None\n",
    "    out_nchannel = 0\n",
    "    dim = 0\n",
    "    stride = 0\n",
    "    pad = 0\n",
    "\n",
    "    def __init__(self, out_nchannel, dim, stride, pad):\n",
    "        self.out_nchannel = out_nchannel\n",
    "        self.dim = dim\n",
    "        self.stride = stride\n",
    "        self.pad = pad\n",
    "        self.b = np.zeros(self.out_nchannel)\n",
    "\n",
    "    def forward(self, X):\n",
    "        # X is of shape (batch_size, height, width, in_nchannel)\n",
    "        super().forward(X)\n",
    "        out_nchannel, dim, stride, pad = self.out_nchannel, self.dim, self.stride, self.pad\n",
    "        if self.W is None:\n",
    "            self.W = np.random.randn(\n",
    "                dim, dim, X.shape[-1], out_nchannel) * np.sqrt(\n",
    "                    2 / (X.shape[1] * X.shape[2] * X.shape[3]))\n",
    "        W, b = self.W, self.b\n",
    "\n",
    "        X = np.pad(X, ((0, ), (pad, ), (pad, ), (0, )))\n",
    "        WX = np.zeros((len(X), (X.shape[1] - W.shape[0]) // stride + 1,\n",
    "                       (X.shape[2] - W.shape[1]) // stride + 1, out_nchannel))\n",
    "\n",
    "        for fh, fw, slice in generate_regions(X, dim, stride):\n",
    "            WX[:, fh, fw, :] = np.tensordot(X[slice], W, axes=3)\n",
    "        return WX + b\n",
    "\n",
    "    def backward(self, grad_in):\n",
    "        X = self.cache_X\n",
    "        dX = np.zeros_like(X, dtype=float)\n",
    "        dW = np.zeros_like(self.W)\n",
    "        db = np.zeros_like(self.b)\n",
    "        dim, stride, pad = self.dim, self.stride, self.pad\n",
    "        X = np.pad(X, ((0, ), (pad, ), (pad, ), (0, )))\n",
    "        dX_pad = np.zeros_like(X, dtype=float)\n",
    "\n",
    "        for fh, fw, slice in generate_regions(X, dim, stride):\n",
    "            grad_in_slice = grad_in[:, fh, fw, newaxis, newaxis, newaxis, :]\n",
    "            dX_pad[slice] += np.sum(self.W * grad_in_slice, axis=-1)\n",
    "            dW += np.sum(X[slice][..., newaxis] * grad_in_slice, axis=0)\n",
    "            db += np.sum(grad_in_slice, axis=0).squeeze()\n",
    "        dX = dX_pad[:, pad:-pad, pad:-pad, :] if pad > 0 else dX_pad\n",
    "        # assert dW.shape == self.W.shape, dW.shape\n",
    "        # assert db.shape == self.b.shape, db.shape\n",
    "        self.W -= dW * self.learn_rate\n",
    "        self.b -= db * self.learn_rate\n",
    "        # print('dW mean=', np.mean(dW), '\\ndb mean=', np.mean(db))\n",
    "        return dX\n",
    "\n",
    "class SigmoidX(Layer):\n",
    "    def __init__(self):\n",
    "        self.X = None\n",
    "        self.z = None\n",
    "    \n",
    "    def sigmoid(self, X):\n",
    "        super().forward(X)\n",
    "        return 1 / (1 + np.exp(-X))\n",
    "    \n",
    "    def forward(self, X):\n",
    "        self.X = X\n",
    "        self.z = self.sigmoid(X)\n",
    "        return self.X * self.z\n",
    "    \n",
    "    def backward(self, grad_in):\n",
    "        sig = self.sigmoid(self.X)\n",
    "        dsig = sig * (1 - sig)\n",
    "        dX = grad_in * sig * (self.X - self.X * sig + 1)\n",
    "        return dX\n",
    "\n",
    "class ReLU(Layer):\n",
    "    def forward(self, X):\n",
    "        #繼承父類（Layer中的forward）的forward方法\n",
    "        super().forward(X)\n",
    "        return np.maximum(X, 0)\n",
    "\n",
    "    def backward(self, grad_in):\n",
    "        dX = grad_in.copy()\n",
    "        dX[self.cache_X <= 0] = 0\n",
    "        return dX\n",
    "\n",
    "\n",
    "class MaxPool2D(Layer):\n",
    "    dim = 0\n",
    "    stride = 0\n",
    "\n",
    "    def __init__(self, dim, stride):\n",
    "        self.dim = dim\n",
    "        self.stride = stride\n",
    "\n",
    "    def forward(self, X):\n",
    "        # X is of shape (batch_size, height, width, in_nchannel)\n",
    "        super().forward(X)\n",
    "        dim, stride = self.dim, self.stride\n",
    "        out_shape = ((X.shape[1] - dim) // stride + 1,\n",
    "                     (X.shape[2] - dim) // stride + 1, X.shape[3])\n",
    "        y = np.zeros((len(X), ) + out_shape)\n",
    "        for fh, fw, slice in generate_regions(X, dim, stride):\n",
    "            y[:, fh, fw, :] = np.max(X[slice], axis=(1, 2))\n",
    "        return y\n",
    "\n",
    "    def backward(self, grad_in):\n",
    "        X = self.cache_X\n",
    "        dim, stride = self.dim, self.stride\n",
    "        dX = np.zeros_like(X, dtype=float)\n",
    "        for fh, fw, slice in generate_regions(X, dim, stride):\n",
    "            ## In case of multiple maximum, I first tried propagating to every max, which resulted in exploding / vanishing gradient in CIFAR-10\n",
    "            ## This problem took me 2 days to debug :)\n",
    "            xs = X[slice]\n",
    "            indices = np.indices((xs.shape[0], xs.shape[-1]))\n",
    "            max_indices = (indices[0], ) + np.unravel_index(\n",
    "                xs.reshape((xs.shape[0], -1, xs.shape[-1])).argmax(axis=1),\n",
    "                xs.shape[1:-1]) + (indices[1], )\n",
    "            mask = np.zeros_like(xs)\n",
    "            mask[max_indices] = 1\n",
    "            dX[slice] += mask * grad_in[:, fh, newaxis, fw, newaxis, :]\n",
    "        return dX\n",
    "\n",
    "\n",
    "class Flatten(Layer):\n",
    "\n",
    "    def forward(self, X):\n",
    "        # X is of shape (batch_size, height, width, in_nchannel)\n",
    "        # output is of shape (batch_size, -1)\n",
    "        super().forward(X)\n",
    "        return X.reshape((len(X), -1))\n",
    "\n",
    "    def backward(self, grad_in):\n",
    "        return grad_in.reshape(self.cache_X.shape)\n",
    "\n",
    "\n",
    "class Dense(Layer):\n",
    "    W = None\n",
    "    b = None\n",
    "    out_dim = 0\n",
    "\n",
    "    def __init__(self, out_dim):\n",
    "        self.out_dim = out_dim\n",
    "        self.b = np.zeros(out_dim)\n",
    "\n",
    "    def forward(self, X):\n",
    "        # X is of shape (batch_size, in_dim)\n",
    "        # output is of shape (batch_size, out_dim)\n",
    "        super().forward(X)\n",
    "        in_dim = X.shape[-1]\n",
    "        if self.W is None:\n",
    "            self.W = np.random.randn(in_dim, self.out_dim) * np.sqrt(\n",
    "                2 / in_dim)\n",
    "        return X @ self.W + self.b\n",
    "\n",
    "    def backward(self, grad_in):\n",
    "        X = self.cache_X\n",
    "        dX = grad_in @ self.W.T\n",
    "        dW = X.T @ grad_in\n",
    "        db = np.sum(grad_in, axis=0)\n",
    "        # assert dW.shape == self.W.shape, dW.shape\n",
    "        # assert db.shape == self.b.shape, db.shape\n",
    "        self.W -= dW * self.learn_rate\n",
    "        self.b -= db * self.learn_rate\n",
    "        # print('dW mean=', np.mean(dW), '\\ndb mean=', np.mean(db))\n",
    "        return dX\n",
    "\n",
    "\n",
    "def softmax(X, axis=-1, epsilon=1e-9):\n",
    "    # actual softmax function is np.exp(X)/np.exp(X).sum(), here same value is calculated in a different way\n",
    "    e_x = np.exp(X - np.max(X, axis=axis, keepdims=True))\n",
    "    probs = e_x / e_x.sum(axis=axis, keepdims=True)\n",
    "    # return preprocessing.normalize(probs + epsilon, norm='l1')\n",
    "    return probs\n",
    "\n",
    "\n",
    "class SoftmaxCrossEntropy(Layer):\n",
    "    cache_grad = None\n",
    "\n",
    "    def forward(self, X, y):\n",
    "        # X, y and y_hat are of shape (batch_size, in_dim)\n",
    "        super().forward(X)\n",
    "        m = len(X)\n",
    "        y_hat = softmax(X)\n",
    "        loss = (-1 / m) * np.log(y_hat[y == 1]).sum()\n",
    "        self.cache_grad = (y_hat - y) / m\n",
    "        return y_hat, loss\n",
    "\n",
    "    def backward(self, grad_in):\n",
    "        return self.cache_grad"
   ]
  },
  {
   "cell_type": "code",
   "execution_count": 21,
   "id": "b51c2528",
   "metadata": {
    "code_folding": []
   },
   "outputs": [],
   "source": [
    "class Model:\n",
    "    layers = []\n",
    "    learn_rate = 0\n",
    "\n",
    "    def __init__(self, layers, learn_rate=0.001):\n",
    "        for layer in layers:\n",
    "            layer.learn_rate = learn_rate\n",
    "        self.layers = layers\n",
    "        self.learn_rate = learn_rate\n",
    "        self.loss_t = []\n",
    "        self.loss_v = []\n",
    "        self.acc_t = []\n",
    "        self.acc_v = []\n",
    "    def forward(self, X, y=None):\n",
    "        m = len(X)\n",
    "        for layer in self.layers[:-1]:\n",
    "            X = layer.forward(X)\n",
    "        if y is None:\n",
    "            return softmax(X)\n",
    "        assert len(y) == m\n",
    "        y_hat, loss = self.layers[-1].forward(X, y)\n",
    "        return y_hat, loss\n",
    "\n",
    "    def backward(self):\n",
    "        grad = 1\n",
    "        for layer in reversed(self.layers):\n",
    "            grad = layer.backward(grad)\n",
    "        return grad\n",
    "\n",
    "    def fit(self,\n",
    "            X_train,\n",
    "            y_train,\n",
    "            X_validate,\n",
    "            y_validate,\n",
    "            epochs=1,\n",
    "            batch_size=32):\n",
    "        print('batch_size',batch_size)\n",
    "        n_sample = len(X_train)\n",
    "        n_batch = (n_sample - 1) // batch_size + 1\n",
    "        y_pred = np.zeros_like(y_train)\n",
    "        loss_t = []\n",
    "        loss_v = []\n",
    "        acc_t = []\n",
    "        acc_v = []\n",
    "        for epoch in range(epochs):\n",
    "            print(\"=\"*25)\n",
    "            print(f\"Epoch {epoch+1}\")\n",
    "            with tqdm(total=n_batch) as t:\n",
    "                tot_loss = tot_acc = 0\n",
    "                for i in range(n_batch):\n",
    "                    batch = range(batch_size * i,\n",
    "                                  min(batch_size * (i + 1), n_sample))\n",
    "                    y_hat, loss = self.forward(X_train[batch], y_train[batch])\n",
    "                    acc = (1 / len(batch)) * np.sum(\n",
    "                        reverse_one_hot(y_hat) == reverse_one_hot(\n",
    "                            y_train[batch]))\n",
    "                    y_pred[batch] = y_hat\n",
    "\n",
    "                    grad = self.backward()\n",
    "\n",
    "                    tot_loss += loss\n",
    "                    tot_acc += acc\n",
    "                    if (i + 1) % batch_size == 0 or i + 1 == n_batch:\n",
    "                        loss_t.append(tot_loss / (i + 1))\n",
    "                        acc_t.append(tot_acc / (i + 1))\n",
    "                        t.set_postfix({\n",
    "                            'avg_loss': tot_loss / (i + 1),\n",
    "                            'avg_accuracy': tot_acc / (i + 1),\n",
    "                            'max_abs_gradient': np.max(abs(grad))\n",
    "                        })\n",
    "                        cur_n_batch = i % batch_size + 1\n",
    "                        t.update(cur_n_batch)\n",
    "            print(\"Validation:\")\n",
    "            val_y_hat, val_loss = self.evaluate(X_validate, y_validate,batch_size)\n",
    "            acc_val =  round(np.sum(reverse_one_hot(val_y_hat) == reverse_one_hot(y_validate)) / len(val_y_hat),3)\n",
    "            \n",
    "            loss_v.append(val_loss)\n",
    "            acc_v.append(acc_val)\n",
    "            print('loss: ', val_loss,'acc',acc_val)\n",
    "#             print(\n",
    "#                 metrics.classification_report(reverse_one_hot(val_y_hat),\n",
    "#                                               reverse_one_hot(y_validate)))\n",
    "        self.loss_t = loss_t\n",
    "        self.loss_v = loss_v\n",
    "        self.acc_t = acc_t\n",
    "        self.acc_v = acc_v\n",
    "    def predict(self, X, batch_size=32):\n",
    "        y_pred = []\n",
    "        n_sample = len(X)\n",
    "        n_batch = (n_sample - 1) // batch_size + 1\n",
    "        for i in tqdm(range(n_batch)):\n",
    "            batch = range(batch_size * i, min(batch_size * (i + 1), n_sample))\n",
    "            y_hat = self.forward(X[batch])\n",
    "            y_pred.append(y_hat)\n",
    "        return np.concatenate(y_pred)\n",
    "\n",
    "    def evaluate(self, X, y, batch_size=32):\n",
    "        print('batch_size',batch_size)\n",
    "        y_pred = []\n",
    "        n_sample = len(X)\n",
    "        n_batch = (n_sample - 1) // batch_size + 1\n",
    "        tot_loss = 0\n",
    "        for i in range(n_batch):\n",
    "            batch = range(batch_size * i, min(batch_size * (i + 1), n_sample))\n",
    "            y_hat, loss = self.forward(X[batch], y[batch])\n",
    "            y_pred.append(y_hat)\n",
    "            tot_loss += loss\n",
    "        \n",
    "        return np.concatenate(y_pred), tot_loss / n_batch\n",
    "\n",
    "    def get_weights(self):\n",
    "        weights = []\n",
    "        for layer in self.layers:\n",
    "            if hasattr(layer, 'W'):\n",
    "                weights.append(layer.W)\n",
    "            if hasattr(layer, 'b'):\n",
    "                weights.append(layer.b)\n",
    "        return weights\n",
    "\n",
    "    def set_weights(self, weights):\n",
    "        # careful of not copying by reference\n",
    "        weight_iter = iter(weights)\n",
    "        for layer in self.layers:\n",
    "            if hasattr(layer, 'W'):\n",
    "                layer.W = np.array(next(weight_iter))\n",
    "            if hasattr(layer, 'b'):\n",
    "                layer.b = np.array(next(weight_iter))\n"
   ]
  },
  {
   "cell_type": "markdown",
   "id": "c59fa67b",
   "metadata": {},
   "source": [
    "## shuffle"
   ]
  },
  {
   "cell_type": "code",
   "execution_count": 22,
   "id": "da26e95b",
   "metadata": {},
   "outputs": [],
   "source": [
    "import random\n",
    "random.seed(2023)\n",
    "a = list(range(len(train_X)))\n",
    "random.shuffle(a)\n",
    "\n",
    "train_xr = train_X[a]\n",
    "train_yr = train_y[a]\n",
    "\n",
    "Epochs = 25"
   ]
  },
  {
   "cell_type": "markdown",
   "id": "38280249",
   "metadata": {},
   "source": [
    "## <font color=red size=6 > single one-layer perceptron <font>\n",
    "# Create model"
   ]
  },
  {
   "cell_type": "code",
   "execution_count": 89,
   "id": "d8add4d1",
   "metadata": {},
   "outputs": [],
   "source": [
    "np.random.seed(0)   ## to get deterministic weights\n",
    "\n",
    "model_one_nn = Model([\n",
    "    Flatten(),\n",
    "    Dense(50),\n",
    "    SoftmaxCrossEntropy()\n",
    "],\n",
    "    learn_rate=0.02)\n"
   ]
  },
  {
   "cell_type": "markdown",
   "id": "c6dd2251",
   "metadata": {},
   "source": [
    "# Training"
   ]
  },
  {
   "cell_type": "code",
   "execution_count": 90,
   "id": "783bcb17",
   "metadata": {
    "scrolled": true
   },
   "outputs": [
    {
     "name": "stdout",
     "output_type": "stream",
     "text": [
      "batch_size 32\n",
      "=========================\n",
      "Epoch 1\n"
     ]
    },
    {
     "name": "stderr",
     "output_type": "stream",
     "text": [
      "100%|██████████| 1979/1979 [00:01<00:00, 1913.09it/s, avg_loss=3.75, avg_accuracy=0.0654, max_abs_gradient=0.00394]\n"
     ]
    },
    {
     "name": "stdout",
     "output_type": "stream",
     "text": [
      "Validation:\n",
      "batch_size 32\n",
      "loss:  3.59361199900336 acc 0.082\n",
      "=========================\n",
      "Epoch 2\n"
     ]
    },
    {
     "name": "stderr",
     "output_type": "stream",
     "text": [
      "100%|██████████| 1979/1979 [00:01<00:00, 1913.14it/s, avg_loss=3.62, avg_accuracy=0.0881, max_abs_gradient=0.00379]\n"
     ]
    },
    {
     "name": "stdout",
     "output_type": "stream",
     "text": [
      "Validation:\n",
      "batch_size 32\n",
      "loss:  3.542580754678069 acc 0.098\n",
      "=========================\n",
      "Epoch 3\n"
     ]
    },
    {
     "name": "stderr",
     "output_type": "stream",
     "text": [
      "100%|██████████| 1979/1979 [00:01<00:00, 1927.28it/s, avg_loss=3.56, avg_accuracy=0.1, max_abs_gradient=0.00391]  \n"
     ]
    },
    {
     "name": "stdout",
     "output_type": "stream",
     "text": [
      "Validation:\n",
      "batch_size 32\n",
      "loss:  3.5190529507281973 acc 0.102\n",
      "=========================\n",
      "Epoch 4\n"
     ]
    },
    {
     "name": "stderr",
     "output_type": "stream",
     "text": [
      "100%|██████████| 1979/1979 [00:01<00:00, 1873.21it/s, avg_loss=3.52, avg_accuracy=0.108, max_abs_gradient=0.0042] \n"
     ]
    },
    {
     "name": "stdout",
     "output_type": "stream",
     "text": [
      "Validation:\n",
      "batch_size 32\n",
      "loss:  3.5061677553312784 acc 0.102\n",
      "=========================\n",
      "Epoch 5\n"
     ]
    },
    {
     "name": "stderr",
     "output_type": "stream",
     "text": [
      "100%|██████████| 1979/1979 [00:01<00:00, 1921.40it/s, avg_loss=3.48, avg_accuracy=0.115, max_abs_gradient=0.00445]\n"
     ]
    },
    {
     "name": "stdout",
     "output_type": "stream",
     "text": [
      "Validation:\n",
      "batch_size 32\n",
      "loss:  3.4987524342133884 acc 0.102\n",
      "=========================\n",
      "Epoch 6\n"
     ]
    },
    {
     "name": "stderr",
     "output_type": "stream",
     "text": [
      "100%|██████████| 1979/1979 [00:01<00:00, 1869.68it/s, avg_loss=3.46, avg_accuracy=0.122, max_abs_gradient=0.00467]\n"
     ]
    },
    {
     "name": "stdout",
     "output_type": "stream",
     "text": [
      "Validation:\n",
      "batch_size 32\n",
      "loss:  3.4946053061620033 acc 0.109\n",
      "=========================\n",
      "Epoch 7\n"
     ]
    },
    {
     "name": "stderr",
     "output_type": "stream",
     "text": [
      "100%|██████████| 1979/1979 [00:01<00:00, 1849.55it/s, avg_loss=3.43, avg_accuracy=0.127, max_abs_gradient=0.00487]\n"
     ]
    },
    {
     "name": "stdout",
     "output_type": "stream",
     "text": [
      "Validation:\n",
      "batch_size 32\n",
      "loss:  3.4925999270426127 acc 0.109\n",
      "=========================\n",
      "Epoch 8\n"
     ]
    },
    {
     "name": "stderr",
     "output_type": "stream",
     "text": [
      "100%|██████████| 1979/1979 [00:01<00:00, 1887.94it/s, avg_loss=3.41, avg_accuracy=0.132, max_abs_gradient=0.00506]\n"
     ]
    },
    {
     "name": "stdout",
     "output_type": "stream",
     "text": [
      "Validation:\n",
      "batch_size 32\n",
      "loss:  3.492085448178697 acc 0.111\n",
      "=========================\n",
      "Epoch 9\n"
     ]
    },
    {
     "name": "stderr",
     "output_type": "stream",
     "text": [
      "100%|██████████| 1979/1979 [00:01<00:00, 1855.73it/s, avg_loss=3.39, avg_accuracy=0.137, max_abs_gradient=0.00523]\n"
     ]
    },
    {
     "name": "stdout",
     "output_type": "stream",
     "text": [
      "Validation:\n",
      "batch_size 32\n",
      "loss:  3.4926542070491755 acc 0.104\n",
      "=========================\n",
      "Epoch 10\n"
     ]
    },
    {
     "name": "stderr",
     "output_type": "stream",
     "text": [
      "100%|██████████| 1979/1979 [00:01<00:00, 1893.54it/s, avg_loss=3.37, avg_accuracy=0.14, max_abs_gradient=0.00539] \n"
     ]
    },
    {
     "name": "stdout",
     "output_type": "stream",
     "text": [
      "Validation:\n",
      "batch_size 32\n",
      "loss:  3.494035977689013 acc 0.1\n",
      "=========================\n",
      "Epoch 11\n"
     ]
    },
    {
     "name": "stderr",
     "output_type": "stream",
     "text": [
      "100%|██████████| 1979/1979 [00:01<00:00, 1824.73it/s, avg_loss=3.36, avg_accuracy=0.144, max_abs_gradient=0.00575]\n"
     ]
    },
    {
     "name": "stdout",
     "output_type": "stream",
     "text": [
      "Validation:\n",
      "batch_size 32\n",
      "loss:  3.496043652352176 acc 0.107\n",
      "=========================\n",
      "Epoch 12\n"
     ]
    },
    {
     "name": "stderr",
     "output_type": "stream",
     "text": [
      "100%|██████████| 1979/1979 [00:01<00:00, 1869.62it/s, avg_loss=3.34, avg_accuracy=0.147, max_abs_gradient=0.0061] \n"
     ]
    },
    {
     "name": "stdout",
     "output_type": "stream",
     "text": [
      "Validation:\n",
      "batch_size 32\n",
      "loss:  3.4985429290238304 acc 0.107\n",
      "=========================\n",
      "Epoch 13\n"
     ]
    },
    {
     "name": "stderr",
     "output_type": "stream",
     "text": [
      "100%|██████████| 1979/1979 [00:01<00:00, 1910.40it/s, avg_loss=3.33, avg_accuracy=0.15, max_abs_gradient=0.00643] \n"
     ]
    },
    {
     "name": "stdout",
     "output_type": "stream",
     "text": [
      "Validation:\n",
      "batch_size 32\n",
      "loss:  3.5014343863748385 acc 0.109\n",
      "=========================\n",
      "Epoch 14\n"
     ]
    },
    {
     "name": "stderr",
     "output_type": "stream",
     "text": [
      "100%|██████████| 1979/1979 [00:01<00:00, 1817.27it/s, avg_loss=3.32, avg_accuracy=0.154, max_abs_gradient=0.00674]\n"
     ]
    },
    {
     "name": "stdout",
     "output_type": "stream",
     "text": [
      "Validation:\n",
      "batch_size 32\n",
      "loss:  3.5046424144958244 acc 0.107\n",
      "=========================\n",
      "Epoch 15\n"
     ]
    },
    {
     "name": "stderr",
     "output_type": "stream",
     "text": [
      "100%|██████████| 1979/1979 [00:01<00:00, 1853.97it/s, avg_loss=3.3, avg_accuracy=0.157, max_abs_gradient=0.00704] \n"
     ]
    },
    {
     "name": "stdout",
     "output_type": "stream",
     "text": [
      "Validation:\n",
      "batch_size 32\n",
      "loss:  3.508108138984382 acc 0.104\n",
      "=========================\n",
      "Epoch 16\n"
     ]
    },
    {
     "name": "stderr",
     "output_type": "stream",
     "text": [
      "100%|██████████| 1979/1979 [00:01<00:00, 1883.29it/s, avg_loss=3.29, avg_accuracy=0.159, max_abs_gradient=0.00732]\n"
     ]
    },
    {
     "name": "stdout",
     "output_type": "stream",
     "text": [
      "Validation:\n",
      "batch_size 32\n",
      "loss:  3.5117847639645183 acc 0.104\n",
      "=========================\n",
      "Epoch 17\n"
     ]
    },
    {
     "name": "stderr",
     "output_type": "stream",
     "text": [
      "100%|██████████| 1979/1979 [00:01<00:00, 1910.58it/s, avg_loss=3.28, avg_accuracy=0.162, max_abs_gradient=0.0076] \n"
     ]
    },
    {
     "name": "stdout",
     "output_type": "stream",
     "text": [
      "Validation:\n",
      "batch_size 32\n",
      "loss:  3.515634427063686 acc 0.104\n",
      "=========================\n",
      "Epoch 18\n"
     ]
    },
    {
     "name": "stderr",
     "output_type": "stream",
     "text": [
      "100%|██████████| 1979/1979 [00:01<00:00, 1883.74it/s, avg_loss=3.27, avg_accuracy=0.164, max_abs_gradient=0.00786]\n"
     ]
    },
    {
     "name": "stdout",
     "output_type": "stream",
     "text": [
      "Validation:\n",
      "batch_size 32\n",
      "loss:  3.5196260246754463 acc 0.104\n",
      "=========================\n",
      "Epoch 19\n"
     ]
    },
    {
     "name": "stderr",
     "output_type": "stream",
     "text": [
      "100%|██████████| 1979/1979 [00:01<00:00, 1857.07it/s, avg_loss=3.26, avg_accuracy=0.166, max_abs_gradient=0.00812]\n"
     ]
    },
    {
     "name": "stdout",
     "output_type": "stream",
     "text": [
      "Validation:\n",
      "batch_size 32\n",
      "loss:  3.52373367445185 acc 0.107\n",
      "=========================\n",
      "Epoch 20\n"
     ]
    },
    {
     "name": "stderr",
     "output_type": "stream",
     "text": [
      "100%|██████████| 1979/1979 [00:01<00:00, 1855.02it/s, avg_loss=3.25, avg_accuracy=0.169, max_abs_gradient=0.00836]\n"
     ]
    },
    {
     "name": "stdout",
     "output_type": "stream",
     "text": [
      "Validation:\n",
      "batch_size 32\n",
      "loss:  3.5279356051779076 acc 0.107\n",
      "=========================\n",
      "Epoch 21\n"
     ]
    },
    {
     "name": "stderr",
     "output_type": "stream",
     "text": [
      "100%|██████████| 1979/1979 [00:01<00:00, 1869.71it/s, avg_loss=3.25, avg_accuracy=0.171, max_abs_gradient=0.0086] \n"
     ]
    },
    {
     "name": "stdout",
     "output_type": "stream",
     "text": [
      "Validation:\n",
      "batch_size 32\n",
      "loss:  3.532213338961052 acc 0.104\n",
      "=========================\n",
      "Epoch 22\n"
     ]
    },
    {
     "name": "stderr",
     "output_type": "stream",
     "text": [
      "100%|██████████| 1979/1979 [00:01<00:00, 1872.02it/s, avg_loss=3.24, avg_accuracy=0.173, max_abs_gradient=0.00882]\n"
     ]
    },
    {
     "name": "stdout",
     "output_type": "stream",
     "text": [
      "Validation:\n",
      "batch_size 32\n",
      "loss:  3.536551077109892 acc 0.104\n",
      "=========================\n",
      "Epoch 23\n"
     ]
    },
    {
     "name": "stderr",
     "output_type": "stream",
     "text": [
      "100%|██████████| 1979/1979 [00:01<00:00, 1882.58it/s, avg_loss=3.23, avg_accuracy=0.175, max_abs_gradient=0.00904]\n"
     ]
    },
    {
     "name": "stdout",
     "output_type": "stream",
     "text": [
      "Validation:\n",
      "batch_size 32\n",
      "loss:  3.540935230502232 acc 0.104\n",
      "=========================\n",
      "Epoch 24\n"
     ]
    },
    {
     "name": "stderr",
     "output_type": "stream",
     "text": [
      "100%|██████████| 1979/1979 [00:01<00:00, 1888.29it/s, avg_loss=3.22, avg_accuracy=0.177, max_abs_gradient=0.00926]\n"
     ]
    },
    {
     "name": "stdout",
     "output_type": "stream",
     "text": [
      "Validation:\n",
      "batch_size 32\n",
      "loss:  3.545354054227773 acc 0.104\n",
      "=========================\n",
      "Epoch 25\n"
     ]
    },
    {
     "name": "stderr",
     "output_type": "stream",
     "text": [
      "100%|██████████| 1979/1979 [00:01<00:00, 1877.31it/s, avg_loss=3.21, avg_accuracy=0.178, max_abs_gradient=0.00946]"
     ]
    },
    {
     "name": "stdout",
     "output_type": "stream",
     "text": [
      "Validation:\n",
      "batch_size 32\n",
      "loss:  3.549797358748094 acc 0.104\n"
     ]
    },
    {
     "name": "stderr",
     "output_type": "stream",
     "text": [
      "\n"
     ]
    }
   ],
   "source": [
    "model_one_nn.fit(train_xr, train_yr, val_X, val_y, epochs=Epochs, batch_size=32)\n"
   ]
  },
  {
   "cell_type": "code",
   "execution_count": 91,
   "id": "cbdde49f",
   "metadata": {},
   "outputs": [],
   "source": [
    "### Saving trained weights\n",
    "save_numpy('weights_one_nn.txt', model_one_nn.get_weights())\n",
    "### Loading trained weights\n",
    "with open('weights_one_nn.txt', 'r') as f:\n",
    "    weights = json.load(f)\n",
    "    model_one_nn.set_weights(weights)"
   ]
  },
  {
   "cell_type": "markdown",
   "id": "e38ebf68",
   "metadata": {},
   "source": [
    "# Testing"
   ]
  },
  {
   "cell_type": "code",
   "execution_count": 92,
   "id": "d7046fbf",
   "metadata": {
    "scrolled": false
   },
   "outputs": [
    {
     "name": "stdout",
     "output_type": "stream",
     "text": [
      "batch_size 32\n",
      "              precision    recall  f1-score   support\n",
      "\n",
      "           0       0.44      0.33      0.38        12\n",
      "           1       0.11      0.09      0.10        11\n",
      "           2       0.00      0.00      0.00         2\n",
      "           3       0.11      0.06      0.08        16\n",
      "           4       0.22      0.67      0.33         3\n",
      "           5       0.00      0.00      0.00         2\n",
      "           6       0.22      0.12      0.15        17\n",
      "           7       0.00      0.00      0.00         4\n",
      "           8       0.11      0.09      0.10        11\n",
      "           9       0.00      0.00      0.00         7\n",
      "          10       0.00      0.00      0.00        11\n",
      "          11       0.00      0.00      0.00         2\n",
      "          12       0.00      0.00      0.00         4\n",
      "          13       0.00      0.00      0.00         2\n",
      "          14       0.00      0.00      0.00         8\n",
      "          15       0.11      0.08      0.10        12\n",
      "          16       0.00      0.00      0.00         4\n",
      "          17       0.00      0.00      0.00         0\n",
      "          18       0.00      0.00      0.00         3\n",
      "          19       0.00      0.00      0.00         2\n",
      "          20       0.22      0.12      0.15        17\n",
      "          21       0.00      0.00      0.00         2\n",
      "          22       0.00      0.00      0.00         2\n",
      "          23       0.22      0.17      0.19        12\n",
      "          24       0.00      0.00      0.00         0\n",
      "          25       0.11      0.10      0.11        10\n",
      "          26       0.00      0.00      0.00         6\n",
      "          27       0.22      0.06      0.10        33\n",
      "          28       0.00      0.00      0.00         2\n",
      "          29       0.11      0.17      0.13         6\n",
      "          30       0.00      0.00      0.00         5\n",
      "          31       0.00      0.00      0.00         3\n",
      "          32       0.00      0.00      0.00        17\n",
      "          33       0.22      0.04      0.07        50\n",
      "          34       0.11      0.33      0.17         3\n",
      "          35       0.00      0.00      0.00         0\n",
      "          36       0.11      0.03      0.05        30\n",
      "          37       0.00      0.00      0.00        16\n",
      "          38       0.00      0.00      0.00         4\n",
      "          39       0.11      1.00      0.20         1\n",
      "          40       0.44      0.31      0.36        13\n",
      "          41       0.22      0.29      0.25         7\n",
      "          42       0.11      0.33      0.17         3\n",
      "          43       0.11      0.04      0.05        28\n",
      "          44       0.22      0.29      0.25         7\n",
      "          45       0.11      0.50      0.18         2\n",
      "          46       0.44      0.36      0.40        11\n",
      "          47       0.00      0.00      0.00         3\n",
      "          48       0.78      0.32      0.45        22\n",
      "          49       0.11      0.50      0.18         2\n",
      "\n",
      "    accuracy                           0.11       450\n",
      "   macro avg       0.11      0.13      0.09       450\n",
      "weighted avg       0.18      0.11      0.12       450\n",
      "\n"
     ]
    }
   ],
   "source": [
    "y_pred, test_loss = model_one_nn.evaluate(test_X, test_y)\n",
    "# print('Test\\nloss: ', test_loss)\n",
    "# support指有多少樣本數預測成此類別\n",
    "print(\n",
    "    metrics.classification_report(reverse_one_hot(y_pred),\n",
    "                                  reverse_one_hot(test_y)))"
   ]
  },
  {
   "cell_type": "markdown",
   "id": "0aedd56a",
   "metadata": {},
   "source": [
    "## <font color=red size=6 > two-layer perceptron <font>\n",
    "# Create model"
   ]
  },
  {
   "cell_type": "code",
   "execution_count": 93,
   "id": "5775e73d",
   "metadata": {},
   "outputs": [],
   "source": [
    "np.random.seed(0)   ## to get deterministic weights\n",
    "\n",
    "model_two_nn = Model([\n",
    "    Flatten(),\n",
    "    Dense(84),\n",
    "    Dense(50),\n",
    "    SoftmaxCrossEntropy()\n",
    "],\n",
    "    learn_rate=0.02)\n"
   ]
  },
  {
   "cell_type": "markdown",
   "id": "1a7f71a4",
   "metadata": {},
   "source": [
    "# Training"
   ]
  },
  {
   "cell_type": "code",
   "execution_count": 94,
   "id": "9a177b55",
   "metadata": {
    "scrolled": true
   },
   "outputs": [
    {
     "name": "stdout",
     "output_type": "stream",
     "text": [
      "batch_size 32\n",
      "=========================\n",
      "Epoch 1\n"
     ]
    },
    {
     "name": "stderr",
     "output_type": "stream",
     "text": [
      "100%|██████████| 1979/1979 [00:01<00:00, 1262.04it/s, avg_loss=3.88, avg_accuracy=0.0622, max_abs_gradient=0.00453]\n"
     ]
    },
    {
     "name": "stdout",
     "output_type": "stream",
     "text": [
      "Validation:\n",
      "batch_size 32\n",
      "loss:  3.601305661181089 acc 0.091\n",
      "=========================\n",
      "Epoch 2\n"
     ]
    },
    {
     "name": "stderr",
     "output_type": "stream",
     "text": [
      "100%|██████████| 1979/1979 [00:01<00:00, 1249.78it/s, avg_loss=3.58, avg_accuracy=0.0947, max_abs_gradient=0.0046] \n"
     ]
    },
    {
     "name": "stdout",
     "output_type": "stream",
     "text": [
      "Validation:\n",
      "batch_size 32\n",
      "loss:  3.489456290609793 acc 0.102\n",
      "=========================\n",
      "Epoch 3\n"
     ]
    },
    {
     "name": "stderr",
     "output_type": "stream",
     "text": [
      "100%|██████████| 1979/1979 [00:01<00:00, 1196.03it/s, avg_loss=3.5, avg_accuracy=0.109, max_abs_gradient=0.00523] \n"
     ]
    },
    {
     "name": "stdout",
     "output_type": "stream",
     "text": [
      "Validation:\n",
      "batch_size 32\n",
      "loss:  3.452079884977192 acc 0.113\n",
      "=========================\n",
      "Epoch 4\n"
     ]
    },
    {
     "name": "stderr",
     "output_type": "stream",
     "text": [
      "100%|██████████| 1979/1979 [00:01<00:00, 1171.12it/s, avg_loss=3.46, avg_accuracy=0.119, max_abs_gradient=0.00573]\n"
     ]
    },
    {
     "name": "stdout",
     "output_type": "stream",
     "text": [
      "Validation:\n",
      "batch_size 32\n",
      "loss:  3.432579760813614 acc 0.116\n",
      "=========================\n",
      "Epoch 5\n"
     ]
    },
    {
     "name": "stderr",
     "output_type": "stream",
     "text": [
      "100%|██████████| 1979/1979 [00:01<00:00, 1172.11it/s, avg_loss=3.43, avg_accuracy=0.126, max_abs_gradient=0.00614]\n"
     ]
    },
    {
     "name": "stdout",
     "output_type": "stream",
     "text": [
      "Validation:\n",
      "batch_size 32\n",
      "loss:  3.4218250838901345 acc 0.118\n",
      "=========================\n",
      "Epoch 6\n"
     ]
    },
    {
     "name": "stderr",
     "output_type": "stream",
     "text": [
      "100%|██████████| 1979/1979 [00:01<00:00, 1171.40it/s, avg_loss=3.41, avg_accuracy=0.131, max_abs_gradient=0.00649]\n"
     ]
    },
    {
     "name": "stdout",
     "output_type": "stream",
     "text": [
      "Validation:\n",
      "batch_size 32\n",
      "loss:  3.415787957156493 acc 0.122\n",
      "=========================\n",
      "Epoch 7\n"
     ]
    },
    {
     "name": "stderr",
     "output_type": "stream",
     "text": [
      "100%|██████████| 1979/1979 [00:01<00:00, 1173.01it/s, avg_loss=3.4, avg_accuracy=0.135, max_abs_gradient=0.00681]\n"
     ]
    },
    {
     "name": "stdout",
     "output_type": "stream",
     "text": [
      "Validation:\n",
      "batch_size 32\n",
      "loss:  3.412421401252511 acc 0.122\n",
      "=========================\n",
      "Epoch 8\n"
     ]
    },
    {
     "name": "stderr",
     "output_type": "stream",
     "text": [
      "100%|██████████| 1979/1979 [00:01<00:00, 1172.53it/s, avg_loss=3.38, avg_accuracy=0.139, max_abs_gradient=0.00713]\n"
     ]
    },
    {
     "name": "stdout",
     "output_type": "stream",
     "text": [
      "Validation:\n",
      "batch_size 32\n",
      "loss:  3.410844229483351 acc 0.127\n",
      "=========================\n",
      "Epoch 9\n"
     ]
    },
    {
     "name": "stderr",
     "output_type": "stream",
     "text": [
      "100%|██████████| 1979/1979 [00:01<00:00, 1172.52it/s, avg_loss=3.37, avg_accuracy=0.142, max_abs_gradient=0.00743]\n"
     ]
    },
    {
     "name": "stdout",
     "output_type": "stream",
     "text": [
      "Validation:\n",
      "batch_size 32\n",
      "loss:  3.4106503427348325 acc 0.129\n",
      "=========================\n",
      "Epoch 10\n"
     ]
    },
    {
     "name": "stderr",
     "output_type": "stream",
     "text": [
      "100%|██████████| 1979/1979 [00:01<00:00, 1172.50it/s, avg_loss=3.36, avg_accuracy=0.144, max_abs_gradient=0.00774]\n"
     ]
    },
    {
     "name": "stdout",
     "output_type": "stream",
     "text": [
      "Validation:\n",
      "batch_size 32\n",
      "loss:  3.4116042148207653 acc 0.127\n",
      "=========================\n",
      "Epoch 11\n"
     ]
    },
    {
     "name": "stderr",
     "output_type": "stream",
     "text": [
      "100%|██████████| 1979/1979 [00:01<00:00, 1171.09it/s, avg_loss=3.35, avg_accuracy=0.146, max_abs_gradient=0.00804]\n"
     ]
    },
    {
     "name": "stdout",
     "output_type": "stream",
     "text": [
      "Validation:\n",
      "batch_size 32\n",
      "loss:  3.4135419822703486 acc 0.122\n",
      "=========================\n",
      "Epoch 12\n"
     ]
    },
    {
     "name": "stderr",
     "output_type": "stream",
     "text": [
      "100%|██████████| 1979/1979 [00:01<00:00, 1174.08it/s, avg_loss=3.34, avg_accuracy=0.148, max_abs_gradient=0.00833]\n"
     ]
    },
    {
     "name": "stdout",
     "output_type": "stream",
     "text": [
      "Validation:\n",
      "batch_size 32\n",
      "loss:  3.416337576777662 acc 0.124\n",
      "=========================\n",
      "Epoch 13\n"
     ]
    },
    {
     "name": "stderr",
     "output_type": "stream",
     "text": [
      "100%|██████████| 1979/1979 [00:01<00:00, 1171.76it/s, avg_loss=3.33, avg_accuracy=0.151, max_abs_gradient=0.00862]\n"
     ]
    },
    {
     "name": "stdout",
     "output_type": "stream",
     "text": [
      "Validation:\n",
      "batch_size 32\n",
      "loss:  3.419887230723316 acc 0.12\n",
      "=========================\n",
      "Epoch 14\n"
     ]
    },
    {
     "name": "stderr",
     "output_type": "stream",
     "text": [
      "100%|██████████| 1979/1979 [00:01<00:00, 1171.65it/s, avg_loss=3.32, avg_accuracy=0.153, max_abs_gradient=0.0089] \n"
     ]
    },
    {
     "name": "stdout",
     "output_type": "stream",
     "text": [
      "Validation:\n",
      "batch_size 32\n",
      "loss:  3.4241005673590257 acc 0.12\n",
      "=========================\n",
      "Epoch 15\n"
     ]
    },
    {
     "name": "stderr",
     "output_type": "stream",
     "text": [
      "100%|██████████| 1979/1979 [00:01<00:00, 1158.85it/s, avg_loss=3.31, avg_accuracy=0.155, max_abs_gradient=0.00918]\n"
     ]
    },
    {
     "name": "stdout",
     "output_type": "stream",
     "text": [
      "Validation:\n",
      "batch_size 32\n",
      "loss:  3.4288950756744887 acc 0.116\n",
      "=========================\n",
      "Epoch 16\n"
     ]
    },
    {
     "name": "stderr",
     "output_type": "stream",
     "text": [
      "100%|██████████| 1979/1979 [00:01<00:00, 1160.70it/s, avg_loss=3.31, avg_accuracy=0.157, max_abs_gradient=0.00945]\n"
     ]
    },
    {
     "name": "stdout",
     "output_type": "stream",
     "text": [
      "Validation:\n",
      "batch_size 32\n",
      "loss:  3.4341927943083146 acc 0.113\n",
      "=========================\n",
      "Epoch 17\n"
     ]
    },
    {
     "name": "stderr",
     "output_type": "stream",
     "text": [
      "100%|██████████| 1979/1979 [00:01<00:00, 1158.80it/s, avg_loss=3.3, avg_accuracy=0.159, max_abs_gradient=0.00972]\n"
     ]
    },
    {
     "name": "stdout",
     "output_type": "stream",
     "text": [
      "Validation:\n",
      "batch_size 32\n",
      "loss:  3.439918648240803 acc 0.113\n",
      "=========================\n",
      "Epoch 18\n"
     ]
    },
    {
     "name": "stderr",
     "output_type": "stream",
     "text": [
      "100%|██████████| 1979/1979 [00:01<00:00, 1156.10it/s, avg_loss=3.29, avg_accuracy=0.161, max_abs_gradient=0.00998]\n"
     ]
    },
    {
     "name": "stdout",
     "output_type": "stream",
     "text": [
      "Validation:\n",
      "batch_size 32\n",
      "loss:  3.4460000491135907 acc 0.116\n",
      "=========================\n",
      "Epoch 19\n"
     ]
    },
    {
     "name": "stderr",
     "output_type": "stream",
     "text": [
      "100%|██████████| 1979/1979 [00:01<00:00, 1158.55it/s, avg_loss=3.28, avg_accuracy=0.162, max_abs_gradient=0.0102] \n"
     ]
    },
    {
     "name": "stdout",
     "output_type": "stream",
     "text": [
      "Validation:\n",
      "batch_size 32\n",
      "loss:  3.452367355537192 acc 0.118\n",
      "=========================\n",
      "Epoch 20\n"
     ]
    },
    {
     "name": "stderr",
     "output_type": "stream",
     "text": [
      "100%|██████████| 1979/1979 [00:01<00:00, 1158.76it/s, avg_loss=3.28, avg_accuracy=0.164, max_abs_gradient=0.0105] \n"
     ]
    },
    {
     "name": "stdout",
     "output_type": "stream",
     "text": [
      "Validation:\n",
      "batch_size 32\n",
      "loss:  3.45895477218601 acc 0.116\n",
      "=========================\n",
      "Epoch 21\n"
     ]
    },
    {
     "name": "stderr",
     "output_type": "stream",
     "text": [
      "100%|██████████| 1979/1979 [00:01<00:00, 1253.59it/s, avg_loss=3.27, avg_accuracy=0.165, max_abs_gradient=0.0107] \n"
     ]
    },
    {
     "name": "stdout",
     "output_type": "stream",
     "text": [
      "Validation:\n",
      "batch_size 32\n",
      "loss:  3.465701323463546 acc 0.113\n",
      "=========================\n",
      "Epoch 22\n"
     ]
    },
    {
     "name": "stderr",
     "output_type": "stream",
     "text": [
      "100%|██████████| 1979/1979 [00:01<00:00, 1264.56it/s, avg_loss=3.26, avg_accuracy=0.167, max_abs_gradient=0.011]  \n"
     ]
    },
    {
     "name": "stdout",
     "output_type": "stream",
     "text": [
      "Validation:\n",
      "batch_size 32\n",
      "loss:  3.4725516543503034 acc 0.113\n",
      "=========================\n",
      "Epoch 23\n"
     ]
    },
    {
     "name": "stderr",
     "output_type": "stream",
     "text": [
      "100%|██████████| 1979/1979 [00:01<00:00, 1274.69it/s, avg_loss=3.26, avg_accuracy=0.168, max_abs_gradient=0.0112] \n"
     ]
    },
    {
     "name": "stdout",
     "output_type": "stream",
     "text": [
      "Validation:\n",
      "batch_size 32\n",
      "loss:  3.479456538756324 acc 0.116\n",
      "=========================\n",
      "Epoch 24\n"
     ]
    },
    {
     "name": "stderr",
     "output_type": "stream",
     "text": [
      "100%|██████████| 1979/1979 [00:01<00:00, 1254.39it/s, avg_loss=3.25, avg_accuracy=0.169, max_abs_gradient=0.0114] \n"
     ]
    },
    {
     "name": "stdout",
     "output_type": "stream",
     "text": [
      "Validation:\n",
      "batch_size 32\n",
      "loss:  3.486373076628843 acc 0.113\n",
      "=========================\n",
      "Epoch 25\n"
     ]
    },
    {
     "name": "stderr",
     "output_type": "stream",
     "text": [
      "100%|██████████| 1979/1979 [00:01<00:00, 1166.89it/s, avg_loss=3.24, avg_accuracy=0.171, max_abs_gradient=0.0116] "
     ]
    },
    {
     "name": "stdout",
     "output_type": "stream",
     "text": [
      "Validation:\n",
      "batch_size 32\n",
      "loss:  3.493264621736245 acc 0.113\n"
     ]
    },
    {
     "name": "stderr",
     "output_type": "stream",
     "text": [
      "\n"
     ]
    }
   ],
   "source": [
    "model_two_nn.fit(train_xr, train_yr, val_X, val_y, epochs=Epochs, batch_size=32)\n"
   ]
  },
  {
   "cell_type": "code",
   "execution_count": 95,
   "id": "8089cf7b",
   "metadata": {},
   "outputs": [],
   "source": [
    "### Saving trained weights\n",
    "save_numpy('weights_two_nn.txt', model_two_nn.get_weights())\n",
    "### Loading trained weights\n",
    "with open('weights_two_nn.txt', 'r') as f:\n",
    "    weights = json.load(f)\n",
    "    model_two_nn.set_weights(weights)"
   ]
  },
  {
   "cell_type": "markdown",
   "id": "e7b64abf",
   "metadata": {},
   "source": [
    "# Testing"
   ]
  },
  {
   "cell_type": "code",
   "execution_count": 96,
   "id": "99d5645f",
   "metadata": {},
   "outputs": [
    {
     "name": "stdout",
     "output_type": "stream",
     "text": [
      "batch_size 32\n",
      "              precision    recall  f1-score   support\n",
      "\n",
      "           0       0.33      0.30      0.32        10\n",
      "           1       0.11      0.10      0.11        10\n",
      "           2       0.11      0.50      0.18         2\n",
      "           3       0.00      0.00      0.00        24\n",
      "           4       0.11      0.50      0.18         2\n",
      "           5       0.11      0.25      0.15         4\n",
      "           6       0.22      0.12      0.15        17\n",
      "           7       0.00      0.00      0.00         3\n",
      "           8       0.00      0.00      0.00         8\n",
      "           9       0.00      0.00      0.00         2\n",
      "          10       0.00      0.00      0.00        13\n",
      "          11       0.00      0.00      0.00         2\n",
      "          12       0.00      0.00      0.00         4\n",
      "          13       0.00      0.00      0.00         7\n",
      "          14       0.22      0.08      0.12        25\n",
      "          15       0.11      0.17      0.13         6\n",
      "          16       0.00      0.00      0.00         0\n",
      "          17       0.11      0.50      0.18         2\n",
      "          18       0.00      0.00      0.00         1\n",
      "          19       0.00      0.00      0.00         1\n",
      "          20       0.22      0.25      0.24         8\n",
      "          21       0.00      0.00      0.00         1\n",
      "          22       0.00      0.00      0.00         1\n",
      "          23       0.11      0.12      0.12         8\n",
      "          24       0.00      0.00      0.00         4\n",
      "          25       0.11      0.08      0.09        13\n",
      "          26       0.22      0.25      0.24         8\n",
      "          27       0.44      0.12      0.20        32\n",
      "          28       0.00      0.00      0.00         2\n",
      "          29       0.00      0.00      0.00         6\n",
      "          30       0.00      0.00      0.00        11\n",
      "          31       0.00      0.00      0.00         4\n",
      "          32       0.22      0.08      0.12        24\n",
      "          33       0.00      0.00      0.00        38\n",
      "          34       0.11      0.20      0.14         5\n",
      "          35       0.00      0.00      0.00         0\n",
      "          36       0.11      0.04      0.06        23\n",
      "          37       0.11      0.14      0.12         7\n",
      "          38       0.00      0.00      0.00         3\n",
      "          39       0.22      0.50      0.31         4\n",
      "          40       0.33      0.33      0.33         9\n",
      "          41       0.11      0.12      0.12         8\n",
      "          42       0.00      0.00      0.00         3\n",
      "          43       0.33      0.11      0.17        27\n",
      "          44       0.22      0.15      0.18        13\n",
      "          45       0.22      0.22      0.22         9\n",
      "          46       0.44      0.36      0.40        11\n",
      "          47       0.00      0.00      0.00         3\n",
      "          48       0.56      0.28      0.37        18\n",
      "          49       0.22      0.50      0.31         4\n",
      "\n",
      "    accuracy                           0.12       450\n",
      "   macro avg       0.12      0.13      0.11       450\n",
      "weighted avg       0.18      0.12      0.13       450\n",
      "\n"
     ]
    }
   ],
   "source": [
    "y_pred, test_loss = model_two_nn.evaluate(test_X, test_y)\n",
    "# print('Test\\nloss: ', test_loss)\n",
    "# support指有多少樣本數預測成此類別\n",
    "print(\n",
    "    metrics.classification_report(reverse_one_hot(y_pred),\n",
    "                                  reverse_one_hot(test_y)))"
   ]
  },
  {
   "cell_type": "markdown",
   "id": "872e3770",
   "metadata": {},
   "source": [
    "## <font color=red size=6 > 原本的Lenet-5 <font>\n",
    "# Create model \n"
   ]
  },
  {
   "cell_type": "code",
   "execution_count": 115,
   "id": "0efb074a",
   "metadata": {},
   "outputs": [],
   "source": [
    "np.random.seed(0)   ## to get deterministic weights\n",
    "\n",
    "model_Lenet5 = Model([\n",
    "    Conv2D(6, 5, 1, 0),\n",
    "    ReLU(),\n",
    "    MaxPool2D(2, 2),\n",
    "    Conv2D(16, 5, 1, 0),\n",
    "    ReLU(),\n",
    "    MaxPool2D(2, 2),\n",
    "    Flatten(),\n",
    "    Dense(120),\n",
    "    Dense(84),\n",
    "    Dense(50),\n",
    "    SoftmaxCrossEntropy()\n",
    "],\n",
    "    learn_rate=0.02)\n"
   ]
  },
  {
   "cell_type": "markdown",
   "id": "64ae3d03",
   "metadata": {},
   "source": [
    "# Training"
   ]
  },
  {
   "cell_type": "code",
   "execution_count": 116,
   "id": "6d9bcbb3",
   "metadata": {},
   "outputs": [
    {
     "name": "stdout",
     "output_type": "stream",
     "text": [
      "batch_size 32\n",
      "=========================\n",
      "Epoch 1\n"
     ]
    },
    {
     "name": "stderr",
     "output_type": "stream",
     "text": [
      "100%|██████████| 1979/1979 [05:55<00:00,  5.57it/s, avg_loss=3.83, avg_accuracy=0.041, max_abs_gradient=0.00406] \n"
     ]
    },
    {
     "name": "stdout",
     "output_type": "stream",
     "text": [
      "Validation:\n",
      "batch_size 32\n",
      "loss:  3.7764471653839546 acc 0.062\n",
      "=========================\n",
      "Epoch 2\n"
     ]
    },
    {
     "name": "stderr",
     "output_type": "stream",
     "text": [
      "100%|██████████| 1979/1979 [05:59<00:00,  5.50it/s, avg_loss=3.6, avg_accuracy=0.0793, max_abs_gradient=0.00886] \n"
     ]
    },
    {
     "name": "stdout",
     "output_type": "stream",
     "text": [
      "Validation:\n",
      "batch_size 32\n",
      "loss:  3.4801480982501753 acc 0.091\n",
      "=========================\n",
      "Epoch 3\n"
     ]
    },
    {
     "name": "stderr",
     "output_type": "stream",
     "text": [
      "100%|██████████| 1979/1979 [06:21<00:00,  5.19it/s, avg_loss=3.42, avg_accuracy=0.113, max_abs_gradient=0.0108] \n"
     ]
    },
    {
     "name": "stdout",
     "output_type": "stream",
     "text": [
      "Validation:\n",
      "batch_size 32\n",
      "loss:  3.2962511201964833 acc 0.129\n",
      "=========================\n",
      "Epoch 4\n"
     ]
    },
    {
     "name": "stderr",
     "output_type": "stream",
     "text": [
      "100%|██████████| 1979/1979 [06:24<00:00,  5.15it/s, avg_loss=3.32, avg_accuracy=0.135, max_abs_gradient=0.014] \n"
     ]
    },
    {
     "name": "stdout",
     "output_type": "stream",
     "text": [
      "Validation:\n",
      "batch_size 32\n",
      "loss:  3.2495842687224252 acc 0.133\n",
      "=========================\n",
      "Epoch 5\n"
     ]
    },
    {
     "name": "stderr",
     "output_type": "stream",
     "text": [
      "100%|██████████| 1979/1979 [06:22<00:00,  5.17it/s, avg_loss=3.23, avg_accuracy=0.154, max_abs_gradient=0.0226]\n"
     ]
    },
    {
     "name": "stdout",
     "output_type": "stream",
     "text": [
      "Validation:\n",
      "batch_size 32\n",
      "loss:  3.1777661365733163 acc 0.142\n",
      "=========================\n",
      "Epoch 6\n"
     ]
    },
    {
     "name": "stderr",
     "output_type": "stream",
     "text": [
      "100%|██████████| 1979/1979 [06:22<00:00,  5.17it/s, avg_loss=3.15, avg_accuracy=0.171, max_abs_gradient=0.0282]\n"
     ]
    },
    {
     "name": "stdout",
     "output_type": "stream",
     "text": [
      "Validation:\n",
      "batch_size 32\n",
      "loss:  3.1299565573468318 acc 0.144\n",
      "=========================\n",
      "Epoch 7\n"
     ]
    },
    {
     "name": "stderr",
     "output_type": "stream",
     "text": [
      "100%|██████████| 1979/1979 [06:21<00:00,  5.18it/s, avg_loss=3.09, avg_accuracy=0.183, max_abs_gradient=0.0301]\n"
     ]
    },
    {
     "name": "stdout",
     "output_type": "stream",
     "text": [
      "Validation:\n",
      "batch_size 32\n",
      "loss:  3.0917186291162886 acc 0.158\n",
      "=========================\n",
      "Epoch 8\n"
     ]
    },
    {
     "name": "stderr",
     "output_type": "stream",
     "text": [
      "100%|██████████| 1979/1979 [06:24<00:00,  5.14it/s, avg_loss=3.05, avg_accuracy=0.194, max_abs_gradient=0.0299]\n"
     ]
    },
    {
     "name": "stdout",
     "output_type": "stream",
     "text": [
      "Validation:\n",
      "batch_size 32\n",
      "loss:  3.080138738353408 acc 0.151\n",
      "=========================\n",
      "Epoch 9\n"
     ]
    },
    {
     "name": "stderr",
     "output_type": "stream",
     "text": [
      "100%|██████████| 1979/1979 [06:22<00:00,  5.17it/s, avg_loss=3.02, avg_accuracy=0.202, max_abs_gradient=0.034] \n"
     ]
    },
    {
     "name": "stdout",
     "output_type": "stream",
     "text": [
      "Validation:\n",
      "batch_size 32\n",
      "loss:  3.0731690211062195 acc 0.151\n",
      "=========================\n",
      "Epoch 10\n"
     ]
    },
    {
     "name": "stderr",
     "output_type": "stream",
     "text": [
      "100%|██████████| 1979/1979 [06:22<00:00,  5.17it/s, avg_loss=2.99, avg_accuracy=0.207, max_abs_gradient=0.0348]\n"
     ]
    },
    {
     "name": "stdout",
     "output_type": "stream",
     "text": [
      "Validation:\n",
      "batch_size 32\n",
      "loss:  3.0744490167032077 acc 0.151\n",
      "=========================\n",
      "Epoch 11\n"
     ]
    },
    {
     "name": "stderr",
     "output_type": "stream",
     "text": [
      "100%|██████████| 1979/1979 [06:23<00:00,  5.16it/s, avg_loss=2.97, avg_accuracy=0.211, max_abs_gradient=0.0434]\n"
     ]
    },
    {
     "name": "stdout",
     "output_type": "stream",
     "text": [
      "Validation:\n",
      "batch_size 32\n",
      "loss:  3.0572084140466376 acc 0.162\n",
      "=========================\n",
      "Epoch 12\n"
     ]
    },
    {
     "name": "stderr",
     "output_type": "stream",
     "text": [
      "100%|██████████| 1979/1979 [06:19<00:00,  5.21it/s, avg_loss=2.95, avg_accuracy=0.215, max_abs_gradient=0.0519]\n"
     ]
    },
    {
     "name": "stdout",
     "output_type": "stream",
     "text": [
      "Validation:\n",
      "batch_size 32\n",
      "loss:  3.054637890233106 acc 0.164\n",
      "=========================\n",
      "Epoch 13\n"
     ]
    },
    {
     "name": "stderr",
     "output_type": "stream",
     "text": [
      "100%|██████████| 1979/1979 [06:22<00:00,  5.17it/s, avg_loss=2.94, avg_accuracy=0.219, max_abs_gradient=0.0504]\n"
     ]
    },
    {
     "name": "stdout",
     "output_type": "stream",
     "text": [
      "Validation:\n",
      "batch_size 32\n",
      "loss:  3.046719357414406 acc 0.162\n",
      "=========================\n",
      "Epoch 14\n"
     ]
    },
    {
     "name": "stderr",
     "output_type": "stream",
     "text": [
      "100%|██████████| 1979/1979 [06:22<00:00,  5.17it/s, avg_loss=2.92, avg_accuracy=0.223, max_abs_gradient=0.0531]\n"
     ]
    },
    {
     "name": "stdout",
     "output_type": "stream",
     "text": [
      "Validation:\n",
      "batch_size 32\n",
      "loss:  3.042625217113313 acc 0.169\n",
      "=========================\n",
      "Epoch 15\n"
     ]
    },
    {
     "name": "stderr",
     "output_type": "stream",
     "text": [
      "100%|██████████| 1979/1979 [06:23<00:00,  5.16it/s, avg_loss=2.9, avg_accuracy=0.226, max_abs_gradient=0.0544]\n"
     ]
    },
    {
     "name": "stdout",
     "output_type": "stream",
     "text": [
      "Validation:\n",
      "batch_size 32\n",
      "loss:  3.038832107323139 acc 0.173\n",
      "=========================\n",
      "Epoch 16\n"
     ]
    },
    {
     "name": "stderr",
     "output_type": "stream",
     "text": [
      "100%|██████████| 1979/1979 [06:20<00:00,  5.20it/s, avg_loss=2.89, avg_accuracy=0.23, max_abs_gradient=0.0569] \n"
     ]
    },
    {
     "name": "stdout",
     "output_type": "stream",
     "text": [
      "Validation:\n",
      "batch_size 32\n",
      "loss:  3.033712953225142 acc 0.169\n",
      "=========================\n",
      "Epoch 17\n"
     ]
    },
    {
     "name": "stderr",
     "output_type": "stream",
     "text": [
      "100%|██████████| 1979/1979 [06:24<00:00,  5.14it/s, avg_loss=2.88, avg_accuracy=0.233, max_abs_gradient=0.0558]\n"
     ]
    },
    {
     "name": "stdout",
     "output_type": "stream",
     "text": [
      "Validation:\n",
      "batch_size 32\n",
      "loss:  3.0007294606247896 acc 0.176\n",
      "=========================\n",
      "Epoch 18\n"
     ]
    },
    {
     "name": "stderr",
     "output_type": "stream",
     "text": [
      "100%|██████████| 1979/1979 [06:19<00:00,  5.22it/s, avg_loss=2.87, avg_accuracy=0.235, max_abs_gradient=0.0524]\n"
     ]
    },
    {
     "name": "stdout",
     "output_type": "stream",
     "text": [
      "Validation:\n",
      "batch_size 32\n",
      "loss:  3.003711157060444 acc 0.167\n",
      "=========================\n",
      "Epoch 19\n"
     ]
    },
    {
     "name": "stderr",
     "output_type": "stream",
     "text": [
      "100%|██████████| 1979/1979 [06:23<00:00,  5.17it/s, avg_loss=2.86, avg_accuracy=0.238, max_abs_gradient=0.0553]\n"
     ]
    },
    {
     "name": "stdout",
     "output_type": "stream",
     "text": [
      "Validation:\n",
      "batch_size 32\n",
      "loss:  3.000668333391736 acc 0.167\n",
      "=========================\n",
      "Epoch 20\n"
     ]
    },
    {
     "name": "stderr",
     "output_type": "stream",
     "text": [
      "100%|██████████| 1979/1979 [06:19<00:00,  5.22it/s, avg_loss=2.85, avg_accuracy=0.239, max_abs_gradient=0.0464]\n"
     ]
    },
    {
     "name": "stdout",
     "output_type": "stream",
     "text": [
      "Validation:\n",
      "batch_size 32\n",
      "loss:  3.0012877522399473 acc 0.176\n",
      "=========================\n",
      "Epoch 21\n"
     ]
    },
    {
     "name": "stderr",
     "output_type": "stream",
     "text": [
      "100%|██████████| 1979/1979 [06:22<00:00,  5.17it/s, avg_loss=2.84, avg_accuracy=0.241, max_abs_gradient=0.0488]\n"
     ]
    },
    {
     "name": "stdout",
     "output_type": "stream",
     "text": [
      "Validation:\n",
      "batch_size 32\n",
      "loss:  3.0042824799802035 acc 0.18\n",
      "=========================\n",
      "Epoch 22\n"
     ]
    },
    {
     "name": "stderr",
     "output_type": "stream",
     "text": [
      "100%|██████████| 1979/1979 [06:24<00:00,  5.15it/s, avg_loss=2.83, avg_accuracy=0.242, max_abs_gradient=0.0506]\n"
     ]
    },
    {
     "name": "stdout",
     "output_type": "stream",
     "text": [
      "Validation:\n",
      "batch_size 32\n",
      "loss:  2.998004919232064 acc 0.173\n",
      "=========================\n",
      "Epoch 23\n"
     ]
    },
    {
     "name": "stderr",
     "output_type": "stream",
     "text": [
      "100%|██████████| 1979/1979 [06:22<00:00,  5.18it/s, avg_loss=2.82, avg_accuracy=0.243, max_abs_gradient=0.0478]\n"
     ]
    },
    {
     "name": "stdout",
     "output_type": "stream",
     "text": [
      "Validation:\n",
      "batch_size 32\n",
      "loss:  2.999674128848377 acc 0.176\n",
      "=========================\n",
      "Epoch 24\n"
     ]
    },
    {
     "name": "stderr",
     "output_type": "stream",
     "text": [
      "100%|██████████| 1979/1979 [06:21<00:00,  5.19it/s, avg_loss=2.82, avg_accuracy=0.245, max_abs_gradient=0.0508]\n"
     ]
    },
    {
     "name": "stdout",
     "output_type": "stream",
     "text": [
      "Validation:\n",
      "batch_size 32\n",
      "loss:  2.990373931556824 acc 0.187\n",
      "=========================\n",
      "Epoch 25\n"
     ]
    },
    {
     "name": "stderr",
     "output_type": "stream",
     "text": [
      "100%|██████████| 1979/1979 [06:22<00:00,  5.17it/s, avg_loss=2.81, avg_accuracy=0.246, max_abs_gradient=0.0588]\n"
     ]
    },
    {
     "name": "stdout",
     "output_type": "stream",
     "text": [
      "Validation:\n",
      "batch_size 32\n",
      "loss:  2.987208938630825 acc 0.178\n"
     ]
    }
   ],
   "source": [
    "model_Lenet5.fit(train_xr, train_yr, val_X, val_y, epochs=Epochs, batch_size=32)"
   ]
  },
  {
   "cell_type": "code",
   "execution_count": 118,
   "id": "b4fb217b",
   "metadata": {},
   "outputs": [],
   "source": [
    "### Saving trained weights\n",
    "save_numpy('weights_Lenet51.txt', model_Lenet5.get_weights())\n",
    "### Loading trained weights\n",
    "with open('weights_Lenet51.txt', 'r') as f:\n",
    "    weights = json.load(f)\n",
    "    model_Lenet5.set_weights(weights)"
   ]
  },
  {
   "cell_type": "markdown",
   "id": "45266e23",
   "metadata": {},
   "source": [
    "# Testing"
   ]
  },
  {
   "cell_type": "code",
   "execution_count": 122,
   "id": "ada638a1",
   "metadata": {
    "scrolled": true
   },
   "outputs": [
    {
     "name": "stdout",
     "output_type": "stream",
     "text": [
      "batch_size 32\n",
      "              precision    recall  f1-score   support\n",
      "\n",
      "           0       0.22      0.18      0.20        11\n",
      "           1       0.00      0.00      0.00         7\n",
      "           2       0.11      0.17      0.13         6\n",
      "           3       0.33      0.23      0.27        13\n",
      "           4       0.22      0.10      0.14        20\n",
      "           5       0.22      0.14      0.17        14\n",
      "           6       0.11      0.11      0.11         9\n",
      "           7       0.22      0.12      0.15        17\n",
      "           8       0.00      0.00      0.00        10\n",
      "           9       0.00      0.00      0.00         0\n",
      "          10       0.11      0.25      0.15         4\n",
      "          11       0.11      0.12      0.12         8\n",
      "          12       0.22      0.40      0.29         5\n",
      "          13       0.00      0.00      0.00         8\n",
      "          14       0.33      0.12      0.18        25\n",
      "          15       0.00      0.00      0.00        10\n",
      "          16       0.00      0.00      0.00         4\n",
      "          17       0.11      1.00      0.20         1\n",
      "          18       0.33      0.18      0.23        17\n",
      "          19       0.22      0.20      0.21        10\n",
      "          20       0.33      0.27      0.30        11\n",
      "          21       0.00      0.00      0.00         4\n",
      "          22       0.00      0.00      0.00         6\n",
      "          23       0.22      0.09      0.12        23\n",
      "          24       0.00      0.00      0.00         2\n",
      "          25       0.22      0.17      0.19        12\n",
      "          26       0.00      0.00      0.00         5\n",
      "          27       0.33      0.20      0.25        15\n",
      "          28       0.11      0.17      0.13         6\n",
      "          29       0.00      0.00      0.00         3\n",
      "          30       0.00      0.00      0.00         8\n",
      "          31       0.00      0.00      0.00         4\n",
      "          32       0.22      0.25      0.24         8\n",
      "          33       0.33      0.12      0.18        25\n",
      "          34       0.33      1.00      0.50         3\n",
      "          35       0.11      0.25      0.15         4\n",
      "          36       0.22      0.15      0.18        13\n",
      "          37       0.33      0.50      0.40         6\n",
      "          38       0.00      0.00      0.00         3\n",
      "          39       0.11      0.14      0.12         7\n",
      "          40       0.44      0.44      0.44         9\n",
      "          41       0.00      0.00      0.00         5\n",
      "          42       0.22      0.50      0.31         4\n",
      "          43       0.33      0.16      0.21        19\n",
      "          44       0.33      0.50      0.40         6\n",
      "          45       0.33      0.30      0.32        10\n",
      "          46       0.44      0.40      0.42        10\n",
      "          47       0.11      0.33      0.17         3\n",
      "          48       0.56      0.42      0.48        12\n",
      "          49       0.22      0.40      0.29         5\n",
      "\n",
      "    accuracy                           0.18       450\n",
      "   macro avg       0.18      0.20      0.17       450\n",
      "weighted avg       0.23      0.18      0.18       450\n",
      "\n"
     ]
    }
   ],
   "source": [
    "y_pred, test_loss = model_Lenet5.evaluate(test_X, test_y)\n",
    "# print('Test\\nloss: ', test_loss)\n",
    "# support指有多少樣本數預測成此類別\n",
    "print(\n",
    "    metrics.classification_report(reverse_one_hot(y_pred),\n",
    "                                  reverse_one_hot(test_y)))"
   ]
  },
  {
   "cell_type": "markdown",
   "id": "fd4786c4",
   "metadata": {},
   "source": [
    "## <font color=red size=6 > 改後的Lenet-5 <font>\n",
    "# Create model \n",
    "#### 1.架構多增加Conv2D(120, 3, 1, 0),SigmoidX(),MaxPool2D(2, 2),\n",
    "#### 2.ReLU改成SigmoidX \n",
    "#### 3.Conv2D 5*5改成 3*3"
   ]
  },
  {
   "cell_type": "code",
   "execution_count": 23,
   "id": "5c6c6c67",
   "metadata": {},
   "outputs": [],
   "source": [
    "np.random.seed(0)   ## to get deterministic weights\n",
    "\n",
    "model_change_LeNet = Model([\n",
    "    Conv2D(6, 3, 1, 0),\n",
    "    SigmoidX(),\n",
    "    MaxPool2D(2, 2),\n",
    "    Conv2D(16, 3, 1, 0),\n",
    "    SigmoidX(),\n",
    "    MaxPool2D(2, 2),\n",
    "    Conv2D(120, 3, 1, 0),\n",
    "    SigmoidX(),\n",
    "    MaxPool2D(2, 2),\n",
    "    Flatten(),\n",
    "    Dense(120),\n",
    "    Dense(84),\n",
    "    Dense(50),\n",
    "    SoftmaxCrossEntropy()\n",
    "],\n",
    "    learn_rate=0.02)\n"
   ]
  },
  {
   "cell_type": "markdown",
   "id": "1b1ab175",
   "metadata": {},
   "source": [
    "# Training"
   ]
  },
  {
   "cell_type": "code",
   "execution_count": null,
   "id": "30bdb8bb",
   "metadata": {
    "scrolled": true
   },
   "outputs": [],
   "source": [
    "model_change_LeNet.fit(train_xr, train_yr, val_X, val_y, epochs=Epochs, batch_size=32)"
   ]
  },
  {
   "cell_type": "code",
   "execution_count": 108,
   "id": "0d73739d",
   "metadata": {},
   "outputs": [],
   "source": [
    "### Saving trained weights\n",
    "save_numpy('weights_change_LeNet.txt', model_change_LeNet.get_weights())\n",
    "### Loading trained weights\n",
    "with open('weights_change_LeNet.txt', 'r') as f:\n",
    "    weights = json.load(f)\n",
    "    model_change_LeNet.set_weights(weights)"
   ]
  },
  {
   "cell_type": "markdown",
   "id": "89cd3bf0",
   "metadata": {},
   "source": [
    "# Testing"
   ]
  },
  {
   "cell_type": "code",
   "execution_count": null,
   "id": "7fade712",
   "metadata": {},
   "outputs": [],
   "source": [
    "y_pred, test_loss = model_change_LeNet.evaluate(test_X, test_y)\n",
    "# print('Test\\nloss: ', test_loss)\n",
    "# support指有多少樣本數預測成此類別\n",
    "print(\n",
    "    metrics.classification_report(reverse_one_hot(y_pred),\n",
    "                                  reverse_one_hot(test_y)))"
   ]
  },
  {
   "cell_type": "code",
   "execution_count": 79,
   "id": "68cdefb1",
   "metadata": {
    "scrolled": true
   },
   "outputs": [
    {
     "name": "stdout",
     "output_type": "stream",
     "text": [
      "真實類別  37\n"
     ]
    },
    {
     "name": "stderr",
     "output_type": "stream",
     "text": [
      "100%|██████████| 1/1 [00:00<00:00, 68.92it/s]"
     ]
    },
    {
     "name": "stdout",
     "output_type": "stream",
     "text": [
      "預測類別 37 機率 0.12270513009311099\n",
      "\n",
      " 預測為各類別的機率 \n",
      " [[ 0.          0.00035605]\n",
      " [ 1.          0.0004642 ]\n",
      " [ 2.          0.00012126]\n",
      " [ 3.          0.00123583]\n",
      " [ 4.          0.00092423]\n",
      " [ 5.          0.00130257]\n",
      " [ 6.          0.0020065 ]\n",
      " [ 7.          0.00214889]\n",
      " [ 8.          0.00339595]\n",
      " [ 9.          0.00097879]\n",
      " [10.          0.0015902 ]\n",
      " [11.          0.00106971]\n",
      " [12.          0.00089912]\n",
      " [13.          0.03924968]\n",
      " [14.          0.00208666]\n",
      " [15.          0.01342062]\n",
      " [16.          0.08361578]\n",
      " [17.          0.01353453]\n",
      " [18.          0.01887162]\n",
      " [19.          0.07565841]\n",
      " [20.          0.04399608]\n",
      " [21.          0.03890459]\n",
      " [22.          0.09891671]\n",
      " [23.          0.00034296]\n",
      " [24.          0.0111774 ]\n",
      " [25.          0.01224789]\n",
      " [26.          0.04084298]\n",
      " [27.          0.00115744]\n",
      " [28.          0.00034507]\n",
      " [29.          0.01126134]\n",
      " [30.          0.01072717]\n",
      " [31.          0.05821609]\n",
      " [32.          0.08221713]\n",
      " [33.          0.00587378]\n",
      " [34.          0.07408778]\n",
      " [35.          0.03778331]\n",
      " [36.          0.02577846]\n",
      " [37.          0.12270513]\n",
      " [38.          0.01329666]\n",
      " [39.          0.00060462]\n",
      " [40.          0.0000865 ]\n",
      " [41.          0.00027912]\n",
      " [42.          0.02260317]\n",
      " [43.          0.00821572]\n",
      " [44.          0.00320511]\n",
      " [45.          0.00025091]\n",
      " [46.          0.00071914]\n",
      " [47.          0.00466902]\n",
      " [48.          0.00049815]\n",
      " [49.          0.00606001]]\n"
     ]
    },
    {
     "name": "stderr",
     "output_type": "stream",
     "text": [
      "\n"
     ]
    },
    {
     "data": {
      "image/png": "[encoded data removed]",
      "text/plain": [
       "<Figure size 432x288 with 1 Axes>"
      ]
     },
     "metadata": {
      "needs_background": "light"
     },
     "output_type": "display_data"
    }
   ],
   "source": [
    "def print_numpy_unscientific(x):\n",
    "    with np.printoptions(suppress=True):\n",
    "        for i in range(0,49):\n",
    "            if x[i,1:] == x[:50,1:].max():\n",
    "                print('預測類別',i,'機率',x[:50,1:].max())\n",
    "        print('\\n 預測為各類別的機率 \\n',x)\n",
    "def show_image(X, y):\n",
    "    print(\"真實類別 \",y)\n",
    "    plt.imshow(X, cmap='gray' if X.shape[2] == 1 else None)\n",
    "               \n",
    "rand_idx = np.random.choice(len(test_X))\n",
    "label = reverse_one_hot(test_y[rand_idx])\n",
    "show_image(test_X[rand_idx], label)\n",
    "batch = range(rand_idx, rand_idx + 1)\n",
    "y_hat = model.predict(test_X[batch])\n",
    "print_numpy_unscientific(np.array(list(enumerate(y_hat.squeeze()))))"
   ]
  },
  {
   "cell_type": "markdown",
   "id": "85e56ec2",
   "metadata": {},
   "source": [
    "# 畫Loss和Accuracy"
   ]
  },
  {
   "cell_type": "code",
   "execution_count": 132,
   "id": "e06457a3",
   "metadata": {},
   "outputs": [
    {
     "data": {
      "image/png": "[encoded data removed]",
      "text/plain": [
       "<Figure size 1000x500 with 1 Axes>"
      ]
     },
     "metadata": {
      "needs_background": "light"
     },
     "output_type": "display_data"
    },
    {
     "data": {
      "image/png": "[encoded data removed]",
      "text/plain": [
       "<Figure size 1000x500 with 1 Axes>"
      ]
     },
     "metadata": {
      "needs_background": "light"
     },
     "output_type": "display_data"
    },
    {
     "data": {
      "image/png": "[encoded data removed]",
      "text/plain": [
       "<Figure size 1000x500 with 1 Axes>"
      ]
     },
     "metadata": {
      "needs_background": "light"
     },
     "output_type": "display_data"
    },
    {
     "data": {
      "image/png": "[encoded data removed]",
      "text/plain": [
       "<Figure size 1000x500 with 1 Axes>"
      ]
     },
     "metadata": {
      "needs_background": "light"
     },
     "output_type": "display_data"
    },
    {
     "data": {
      "image/png": "[encoded data removed]",
      "text/plain": [
       "<Figure size 1000x500 with 1 Axes>"
      ]
     },
     "metadata": {
      "needs_background": "light"
     },
     "output_type": "display_data"
    },
    {
     "data": {
      "image/png": "[encoded data removed]",
      "text/plain": [
       "<Figure size 1000x500 with 1 Axes>"
      ]
     },
     "metadata": {
      "needs_background": "light"
     },
     "output_type": "display_data"
    },
    {
     "data": {
      "image/png": "[encoded data removed]",
      "text/plain": [
       "<Figure size 1000x500 with 1 Axes>"
      ]
     },
     "metadata": {
      "needs_background": "light"
     },
     "output_type": "display_data"
    },
    {
     "data": {
      "image/png": "[encoded data removed]",
      "text/plain": [
       "<Figure size 1000x500 with 1 Axes>"
      ]
     },
     "metadata": {
      "needs_background": "light"
     },
     "output_type": "display_data"
    }
   ],
   "source": [
    "import matplotlib.pyplot as plt\n",
    "NAME = [model_one_nn,model_two_nn,model_Lenet5,model_change_LeNet]\n",
    "NAME_str = [\"One-layer perceptron\",\"Two-layer perceptron \",\"Lenet5\",\"Change_LeNet5\"]\n",
    "count = 0\n",
    "for name in NAME:\n",
    "    loss_t=[]\n",
    "    acc_t=[]\n",
    "    for i in range(len(name.loss_t)):\n",
    "        if i%(len(name.acc_t)/Epochs) == 61:\n",
    "            loss_t.append(name.loss_t[i])\n",
    "            acc_t.append(name.acc_t[i])\n",
    "    \n",
    "    #accuracy\n",
    "    plt.figure(figsize=(10,5),dpi=100,linewidth = 2)\n",
    "    # 把資料放進來並指定對應的X軸、Y軸的資料，用方形做標記(s-)，並指定線條顏色為紅色，使用label標記線條含意\n",
    "    plt.plot(range(1,Epochs+1),name.acc_v,'s-',color = 'r', label=\"acc_val\")\n",
    "    # 把資料放進來並指定對應的X軸、Y軸的資料 用圓形做標記(o-)，並指定線條顏色為綠色、使用label標記線條含意\n",
    "    plt.plot(range(1,Epochs+1),acc_t,'o-',color = 'g', label=\"acc_train\")\n",
    "    plt.title(NAME_str[count]+\"  Train & Val accuracy\",  x=0.5, y=1.03)\n",
    "    plt.xticks(fontsize=15)\n",
    "    plt.yticks(fontsize=15)\n",
    "    # labelpad代表與圖片的距離\n",
    "    plt.xlabel(\"Epochs\", fontsize=15, labelpad = 15)\n",
    "    plt.ylabel(\"Accuracy\", fontsize=15, labelpad = 15)\n",
    "    plt.legend(loc = \"best\", fontsize=15)\n",
    "    plt.show()\n",
    "    \n",
    "    #loss\n",
    "    plt.figure(figsize=(10,5),dpi=100,linewidth = 2)\n",
    "    plt.plot(range(1,Epochs+1),name.loss_v,'s-',color = 'r', label=\"loss_val\")\n",
    "    plt.plot(range(1,Epochs+1),loss_t,'o-',color = 'g', label=\"loss_train\")\n",
    "    plt.title(NAME_str[count]+\"  Train & Val loss\",  x=0.5, y=1.03)\n",
    "    plt.xticks(fontsize=15)\n",
    "    plt.yticks(fontsize=15)\n",
    "    plt.xlabel(\"Epochs\", fontsize=15, labelpad = 15)\n",
    "    plt.ylabel(\"Loss\", fontsize=15, labelpad = 15)\n",
    "    plt.legend(loc = \"best\", fontsize=15)\n",
    "    plt.show()\n",
    "    \n",
    "    count+=1"
   ]
  },
  {
   "cell_type": "code",
   "execution_count": null,
   "id": "abffbab3",
   "metadata": {},
   "outputs": [],
   "source": []
  }
 ],
 "metadata": {
  "kernelspec": {
   "display_name": "Python 3",
   "language": "python",
   "name": "python3"
  },
  "language_info": {
   "codemirror_mode": {
    "name": "ipython",
    "version": 3
   },
   "file_extension": ".py",
   "mimetype": "text/x-python",
   "name": "python",
   "nbconvert_exporter": "python",
   "pygments_lexer": "ipython3",
   "version": "3.7.10"
  },
  "varInspector": {
   "cols": {
    "lenName": 16,
    "lenType": 16,
    "lenVar": 40
   },
   "kernels_config": {
    "python": {
     "delete_cmd_postfix": "",
     "delete_cmd_prefix": "del ",
     "library": "var_list.py",
     "varRefreshCmd": "print(var_dic_list())"
    },
    "r": {
     "delete_cmd_postfix": ") ",
     "delete_cmd_prefix": "rm(",
     "library": "var_list.r",
     "varRefreshCmd": "cat(var_dic_list()) "
    }
   },
   "types_to_exclude": [
    "module",
    "function",
    "builtin_function_or_method",
    "instance",
    "_Feature"
   ],
   "window_display": false
  }
 },
 "nbformat": 4,
 "nbformat_minor": 5
}
